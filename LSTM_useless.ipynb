{
 "cells": [
  {
   "cell_type": "code",
   "execution_count": 1,
   "id": "7e3d6b4c",
   "metadata": {},
   "outputs": [],
   "source": [
    "import numpy as np # linear algebra\n",
    "import pandas as pd # data processing, CSV file I/O (e.g. pd.read_csv)\n",
    "import datetime\n",
    "from pylab import rcParams\n",
    "import matplotlib.pyplot as plt\n",
    "import warnings\n",
    "import itertools\n",
    "import statsmodels.api as sm\n",
    "from keras.models import Sequential\n",
    "from keras.layers import Dense\n",
    "from keras.layers import LSTM\n",
    "from keras.layers import Dropout\n",
    "from sklearn.metrics import mean_squared_error\n",
    "from keras.callbacks import ReduceLROnPlateau, EarlyStopping, ModelCheckpoint\n",
    "from sklearn.metrics import mean_squared_error\n",
    "from sklearn.metrics import mean_absolute_error\n",
    "import seaborn as sns\n",
    "sns.set_context(\"paper\", font_scale=1.3)\n",
    "sns.set_style('white')\n",
    "import math\n",
    "from sklearn.preprocessing import MinMaxScaler\n",
    "warnings.filterwarnings(\"ignore\")\n",
    "plt.style.use('fivethirtyeight')\n",
    "import os\n",
    "for dirname, _, filenames in os.walk('/kaggle/input'):\n",
    "    for filename in filenames:\n",
    "        print(os.path.join(dirname, filename))"
   ]
  },
  {
   "cell_type": "code",
   "execution_count": 68,
   "id": "e4e87454",
   "metadata": {},
   "outputs": [],
   "source": [
    "dateparse1 = lambda x1: pd.datetime.strptime(x1,\"%Y\")\n",
    "data = pd.read_csv('dataset/Europe_Brent_Spot_Price_FOB _Annually.csv',parse_dates=['Date'], date_parser=dateparse1)\n",
    "data = data.reindex(index=data.index[::-1])\n",
    "df = data\n",
    "data.head()\n",
    "df = df.sort_values('Date')\n",
    "df = df.groupby('Date')['Price'].sum().reset_index()\n",
    "df.set_index('Date', inplace=True)\n",
    "df=df.loc[datetime.date(year=1988,month=1,day=1):]"
   ]
  },
  {
   "cell_type": "code",
   "execution_count": 69,
   "id": "2a732d14",
   "metadata": {},
   "outputs": [],
   "source": [
    "#dateparse = lambda x: pd.datetime.strptime(x, '%b %d, %Y')\n",
    "#Read csv file\n",
    "#df = pd.read_csv('test 1- crude oil/dataset/BrentOilPrices.csv',parse_dates=['Date'], date_parser=dateparse)\n",
    "#Sort dataset by column Date\n",
    "#df = df.sort_values('Date')\n",
    "#df = df.groupby('Date')['Price'].sum().reset_index()\n",
    "#df.set_index('Date', inplace=True)\n",
    "#df=df.loc[datetime.date(year=2000,month=1,day=1):]"
   ]
  },
  {
   "cell_type": "code",
   "execution_count": 70,
   "id": "a81cfb9e",
   "metadata": {},
   "outputs": [],
   "source": [
    "def DfInfo(df_initial):\n",
    "    # gives some infos on columns types and numer of null values\n",
    "    tab_info = pd.DataFrame(df_initial.dtypes).T.rename(index={0: 'column type'})\n",
    "    tab_info = tab_info.append(pd.DataFrame(df_initial.isnull().sum()).T.rename(index={0: 'null values (nb)'}))\n",
    "    tab_info = tab_info.append(pd.DataFrame(df_initial.isnull().sum() / df_initial.shape[0] * 100).T.\n",
    "                               rename(index={0: 'null values (%)'}))\n",
    "    return tab_info"
   ]
  },
  {
   "cell_type": "code",
   "execution_count": 71,
   "id": "e6da5a30",
   "metadata": {},
   "outputs": [
    {
     "data": {
      "text/html": [
       "<div>\n",
       "<style scoped>\n",
       "    .dataframe tbody tr th:only-of-type {\n",
       "        vertical-align: middle;\n",
       "    }\n",
       "\n",
       "    .dataframe tbody tr th {\n",
       "        vertical-align: top;\n",
       "    }\n",
       "\n",
       "    .dataframe thead th {\n",
       "        text-align: right;\n",
       "    }\n",
       "</style>\n",
       "<table border=\"1\" class=\"dataframe\">\n",
       "  <thead>\n",
       "    <tr style=\"text-align: right;\">\n",
       "      <th></th>\n",
       "      <th>Price</th>\n",
       "    </tr>\n",
       "    <tr>\n",
       "      <th>Date</th>\n",
       "      <th></th>\n",
       "    </tr>\n",
       "  </thead>\n",
       "  <tbody>\n",
       "    <tr>\n",
       "      <th>1988-01-01</th>\n",
       "      <td>14.91</td>\n",
       "    </tr>\n",
       "    <tr>\n",
       "      <th>1989-01-01</th>\n",
       "      <td>18.23</td>\n",
       "    </tr>\n",
       "    <tr>\n",
       "      <th>1990-01-01</th>\n",
       "      <td>23.76</td>\n",
       "    </tr>\n",
       "    <tr>\n",
       "      <th>1991-01-01</th>\n",
       "      <td>20.04</td>\n",
       "    </tr>\n",
       "    <tr>\n",
       "      <th>1992-01-01</th>\n",
       "      <td>19.32</td>\n",
       "    </tr>\n",
       "  </tbody>\n",
       "</table>\n",
       "</div>"
      ],
      "text/plain": [
       "            Price\n",
       "Date             \n",
       "1988-01-01  14.91\n",
       "1989-01-01  18.23\n",
       "1990-01-01  23.76\n",
       "1991-01-01  20.04\n",
       "1992-01-01  19.32"
      ]
     },
     "execution_count": 71,
     "metadata": {},
     "output_type": "execute_result"
    }
   ],
   "source": [
    "df.head()"
   ]
  },
  {
   "cell_type": "code",
   "execution_count": 72,
   "id": "2f51d1a6",
   "metadata": {},
   "outputs": [
    {
     "data": {
      "text/html": [
       "<div>\n",
       "<style scoped>\n",
       "    .dataframe tbody tr th:only-of-type {\n",
       "        vertical-align: middle;\n",
       "    }\n",
       "\n",
       "    .dataframe tbody tr th {\n",
       "        vertical-align: top;\n",
       "    }\n",
       "\n",
       "    .dataframe thead th {\n",
       "        text-align: right;\n",
       "    }\n",
       "</style>\n",
       "<table border=\"1\" class=\"dataframe\">\n",
       "  <thead>\n",
       "    <tr style=\"text-align: right;\">\n",
       "      <th></th>\n",
       "      <th>Price</th>\n",
       "    </tr>\n",
       "  </thead>\n",
       "  <tbody>\n",
       "    <tr>\n",
       "      <th>column type</th>\n",
       "      <td>float64</td>\n",
       "    </tr>\n",
       "    <tr>\n",
       "      <th>null values (nb)</th>\n",
       "      <td>0</td>\n",
       "    </tr>\n",
       "    <tr>\n",
       "      <th>null values (%)</th>\n",
       "      <td>0.0</td>\n",
       "    </tr>\n",
       "  </tbody>\n",
       "</table>\n",
       "</div>"
      ],
      "text/plain": [
       "                    Price\n",
       "column type       float64\n",
       "null values (nb)        0\n",
       "null values (%)       0.0"
      ]
     },
     "execution_count": 72,
     "metadata": {},
     "output_type": "execute_result"
    }
   ],
   "source": [
    "DfInfo(df)"
   ]
  },
  {
   "cell_type": "code",
   "execution_count": 73,
   "id": "19a319e4",
   "metadata": {},
   "outputs": [
    {
     "data": {
      "text/plain": [
       "DatetimeIndex(['1988-01-01', '1989-01-01', '1990-01-01', '1991-01-01',\n",
       "               '1992-01-01', '1993-01-01', '1994-01-01', '1995-01-01',\n",
       "               '1996-01-01', '1997-01-01', '1998-01-01', '1999-01-01',\n",
       "               '2000-01-01', '2001-01-01', '2002-01-01', '2003-01-01',\n",
       "               '2004-01-01', '2005-01-01', '2006-01-01', '2007-01-01',\n",
       "               '2008-01-01', '2009-01-01', '2010-01-01', '2011-01-01',\n",
       "               '2012-01-01', '2013-01-01', '2014-01-01', '2015-01-01',\n",
       "               '2016-01-01', '2017-01-01', '2018-01-01', '2019-01-01',\n",
       "               '2020-01-01', '2021-01-01'],\n",
       "              dtype='datetime64[ns]', name='Date', freq=None)"
      ]
     },
     "execution_count": 73,
     "metadata": {},
     "output_type": "execute_result"
    }
   ],
   "source": [
    "df.index"
   ]
  },
  {
   "cell_type": "code",
   "execution_count": 74,
   "id": "f8d496b2",
   "metadata": {},
   "outputs": [
    {
     "data": {
      "image/png": "[encoded data removed]",
      "text/plain": [
       "<Figure size 1080x432 with 1 Axes>"
      ]
     },
     "metadata": {
      "needs_background": "light"
     },
     "output_type": "display_data"
    }
   ],
   "source": [
    "y = df['Price'].resample('MS').mean()\n",
    "y.plot(figsize=(15, 6))\n",
    "plt.show()"
   ]
  },
  {
   "cell_type": "code",
   "execution_count": 75,
   "id": "3e966916",
   "metadata": {},
   "outputs": [
    {
     "ename": "ValueError",
     "evalue": "This function does not handle missing values",
     "output_type": "error",
     "traceback": [
      "\u001b[1;31m---------------------------------------------------------------------------\u001b[0m",
      "\u001b[1;31mValueError\u001b[0m                                Traceback (most recent call last)",
      "Input \u001b[1;32mIn [75]\u001b[0m, in \u001b[0;36m<cell line: 2>\u001b[1;34m()\u001b[0m\n\u001b[0;32m      1\u001b[0m rcParams[\u001b[38;5;124m'\u001b[39m\u001b[38;5;124mfigure.figsize\u001b[39m\u001b[38;5;124m'\u001b[39m] \u001b[38;5;241m=\u001b[39m \u001b[38;5;241m18\u001b[39m, \u001b[38;5;241m8\u001b[39m\n\u001b[1;32m----> 2\u001b[0m decomposition \u001b[38;5;241m=\u001b[39m \u001b[43msm\u001b[49m\u001b[38;5;241;43m.\u001b[39;49m\u001b[43mtsa\u001b[49m\u001b[38;5;241;43m.\u001b[39;49m\u001b[43mseasonal_decompose\u001b[49m\u001b[43m(\u001b[49m\u001b[43my\u001b[49m\u001b[43m,\u001b[49m\u001b[43m \u001b[49m\u001b[43mmodel\u001b[49m\u001b[38;5;241;43m=\u001b[39;49m\u001b[38;5;124;43m'\u001b[39;49m\u001b[38;5;124;43madditive\u001b[39;49m\u001b[38;5;124;43m'\u001b[39;49m\u001b[43m)\u001b[49m\n\u001b[0;32m      3\u001b[0m fig \u001b[38;5;241m=\u001b[39m decomposition\u001b[38;5;241m.\u001b[39mplot()\n\u001b[0;32m      4\u001b[0m plt\u001b[38;5;241m.\u001b[39mshow()\n",
      "File \u001b[1;32m~\\AppData\\Local\\Programs\\Python\\Python310\\lib\\site-packages\\statsmodels\\tsa\\seasonal.py:146\u001b[0m, in \u001b[0;36mseasonal_decompose\u001b[1;34m(x, model, filt, period, two_sided, extrapolate_trend)\u001b[0m\n\u001b[0;32m    143\u001b[0m nobs \u001b[38;5;241m=\u001b[39m \u001b[38;5;28mlen\u001b[39m(x)\n\u001b[0;32m    145\u001b[0m \u001b[38;5;28;01mif\u001b[39;00m \u001b[38;5;129;01mnot\u001b[39;00m np\u001b[38;5;241m.\u001b[39mall(np\u001b[38;5;241m.\u001b[39misfinite(x)):\n\u001b[1;32m--> 146\u001b[0m     \u001b[38;5;28;01mraise\u001b[39;00m \u001b[38;5;167;01mValueError\u001b[39;00m(\u001b[38;5;124m\"\u001b[39m\u001b[38;5;124mThis function does not handle missing values\u001b[39m\u001b[38;5;124m\"\u001b[39m)\n\u001b[0;32m    147\u001b[0m \u001b[38;5;28;01mif\u001b[39;00m model\u001b[38;5;241m.\u001b[39mstartswith(\u001b[38;5;124m\"\u001b[39m\u001b[38;5;124mm\u001b[39m\u001b[38;5;124m\"\u001b[39m):\n\u001b[0;32m    148\u001b[0m     \u001b[38;5;28;01mif\u001b[39;00m np\u001b[38;5;241m.\u001b[39many(x \u001b[38;5;241m<\u001b[39m\u001b[38;5;241m=\u001b[39m \u001b[38;5;241m0\u001b[39m):\n",
      "\u001b[1;31mValueError\u001b[0m: This function does not handle missing values"
     ]
    }
   ],
   "source": [
    "rcParams['figure.figsize'] = 18, 8\n",
    "decomposition = sm.tsa.seasonal_decompose(y, model='additive')\n",
    "fig = decomposition.plot()\n",
    "plt.show()\n"
   ]
  },
  {
   "cell_type": "code",
   "execution_count": 76,
   "id": "09121097",
   "metadata": {},
   "outputs": [
    {
     "name": "stdout",
     "output_type": "stream",
     "text": [
      "             Price\n",
      "Date              \n",
      "1988-01-01   14.91\n",
      "1989-01-01   18.23\n",
      "1990-01-01   23.76\n",
      "1991-01-01   20.04\n",
      "1992-01-01   19.32\n",
      "1993-01-01   17.01\n",
      "1994-01-01   15.86\n",
      "1995-01-01   17.02\n",
      "1996-01-01   20.64\n",
      "1997-01-01   19.11\n",
      "1998-01-01   12.76\n",
      "1999-01-01   17.90\n",
      "2000-01-01   28.66\n",
      "2001-01-01   24.46\n",
      "2002-01-01   24.99\n",
      "2003-01-01   28.85\n",
      "2004-01-01   38.26\n",
      "2005-01-01   54.57\n",
      "2006-01-01   65.16\n",
      "2007-01-01   72.44\n",
      "2008-01-01   96.94\n",
      "2009-01-01   61.74\n",
      "2010-01-01   79.61\n",
      "2011-01-01  111.26\n",
      "2012-01-01  111.63\n",
      "2013-01-01  108.56\n",
      "2014-01-01   98.97\n",
      "2015-01-01   52.32\n",
      "2016-01-01   43.64\n",
      "2017-01-01   54.13\n",
      "2018-01-01   71.34\n",
      "2019-01-01   64.30\n",
      "2020-01-01   41.96\n",
      "2021-01-01   70.86\n"
     ]
    },
    {
     "data": {
      "text/plain": [
       "array([[0.02174573],\n",
       "       [0.05532517],\n",
       "       [0.11125721],\n",
       "       [0.07363204],\n",
       "       [0.06634975],\n",
       "       [0.04298574],\n",
       "       [0.0313543 ],\n",
       "       [0.04308688],\n",
       "       [0.07970062],\n",
       "       [0.06422575],\n",
       "       [0.        ],\n",
       "       [0.05198746],\n",
       "       [0.16081723],\n",
       "       [0.11833721],\n",
       "       [0.12369778],\n",
       "       [0.16273895],\n",
       "       [0.25791443],\n",
       "       [0.42287853],\n",
       "       [0.52998887],\n",
       "       [0.60362092],\n",
       "       [0.85142106],\n",
       "       [0.495398  ],\n",
       "       [0.67614039],\n",
       "       [0.99625771],\n",
       "       [1.        ],\n",
       "       [0.96894913],\n",
       "       [0.87195307],\n",
       "       [0.40012137],\n",
       "       [0.31232932],\n",
       "       [0.41842824],\n",
       "       [0.5924952 ],\n",
       "       [0.52129058],\n",
       "       [0.29533731],\n",
       "       [0.58764034]])"
      ]
     },
     "execution_count": 76,
     "metadata": {},
     "output_type": "execute_result"
    }
   ],
   "source": [
    "print(df)\n",
    "sc = MinMaxScaler(feature_range = (0, 1))\n",
    "df = sc.fit_transform(df)\n",
    "df"
   ]
  },
  {
   "cell_type": "code",
   "execution_count": 77,
   "id": "30d841b8",
   "metadata": {},
   "outputs": [
    {
     "name": "stdout",
     "output_type": "stream",
     "text": [
      "[[0.02174573]\n",
      " [0.05532517]\n",
      " [0.11125721]\n",
      " [0.07363204]\n",
      " [0.06634975]\n",
      " [0.04298574]\n",
      " [0.0313543 ]\n",
      " [0.04308688]\n",
      " [0.07970062]\n",
      " [0.06422575]\n",
      " [0.        ]\n",
      " [0.05198746]\n",
      " [0.16081723]\n",
      " [0.11833721]\n",
      " [0.12369778]\n",
      " [0.16273895]\n",
      " [0.25791443]\n",
      " [0.42287853]\n",
      " [0.52998887]\n",
      " [0.60362092]\n",
      " [0.85142106]\n",
      " [0.495398  ]\n",
      " [0.67614039]] \n",
      "****************************\n",
      "\n",
      "[[0.31232932]\n",
      " [0.41842824]\n",
      " [0.5924952 ]\n",
      " [0.52129058]\n",
      " [0.29533731]\n",
      " [0.58764034]] \n",
      "****************************\n",
      "\n"
     ]
    }
   ],
   "source": [
    "# split into train and test sets\n",
    "train_size = int(len(df) * 0.70)\n",
    "test_size = int((len(df) - train_size)/2)\n",
    "val_size = test_size\n",
    "train, val, test = df[0:train_size, :],df[train_size:train_size+val_size, : ], df[train_size+val_size:len(df), :]\n",
    "print(train,\"\\n****************************\\n\")\n",
    "print(test,\"\\n****************************\\n\")"
   ]
  },
  {
   "cell_type": "code",
   "execution_count": 78,
   "id": "339e7132",
   "metadata": {},
   "outputs": [],
   "source": [
    "# convert an array of values into a data_set matrix def\n",
    "def create_data_set(_data_set, _look_back=1):\n",
    "    data_x, data_y = [], []\n",
    "    for i in range(len(_data_set) - _look_back - 1):\n",
    "        a = _data_set[i:(i + _look_back), 0]\n",
    "        print(a)\n",
    "        data_x.append(a)\n",
    "        data_y.append(_data_set[i + _look_back, 0])\n",
    "    return np.array(data_x), np.array(data_y)\n"
   ]
  },
  {
   "cell_type": "code",
   "execution_count": 80,
   "id": "246eddb3",
   "metadata": {},
   "outputs": [
    {
     "name": "stdout",
     "output_type": "stream",
     "text": [
      "[0.02174573 0.05532517 0.11125721]\n",
      "[0.05532517 0.11125721 0.07363204]\n",
      "[0.11125721 0.07363204 0.06634975]\n",
      "[0.07363204 0.06634975 0.04298574]\n",
      "[0.06634975 0.04298574 0.0313543 ]\n",
      "[0.04298574 0.0313543  0.04308688]\n",
      "[0.0313543  0.04308688 0.07970062]\n",
      "[0.04308688 0.07970062 0.06422575]\n",
      "[0.07970062 0.06422575 0.        ]\n",
      "[0.06422575 0.         0.05198746]\n",
      "[0.         0.05198746 0.16081723]\n",
      "[0.05198746 0.16081723 0.11833721]\n",
      "[0.16081723 0.11833721 0.12369778]\n",
      "[0.11833721 0.12369778 0.16273895]\n",
      "[0.12369778 0.16273895 0.25791443]\n",
      "[0.16273895 0.25791443 0.42287853]\n",
      "[0.25791443 0.42287853 0.52998887]\n",
      "[0.42287853 0.52998887 0.60362092]\n",
      "[0.52998887 0.60362092 0.85142106]\n",
      "[0.99625771 1.         0.96894913]\n",
      "[0.31232932 0.41842824 0.5924952 ]\n",
      "[0.41842824 0.5924952  0.52129058]\n"
     ]
    }
   ],
   "source": [
    "# reshape into X=t and Y=t+1\n",
    "look_back =3\n",
    "X_train,Y_train,X_test,Ytest,Y_val,Y_val = [],[],[],[],[],[]\n",
    "X_train,Y_train=create_data_set(train,look_back)\n",
    "X_val,Y_val=create_data_set(val,look_back)\n",
    "X_train = np.reshape(X_train, (X_train.shape[0], X_train.shape[1], 1))\n",
    "X_val = np.reshape(X_val, (X_val.shape[0], X_val.shape[1], 1))\n",
    "X_test,Y_test=create_data_set(test,look_back)\n",
    "X_test = np.reshape(X_test, (X_test.shape[0], X_test.shape[1], 1))\n"
   ]
  },
  {
   "cell_type": "code",
   "execution_count": 81,
   "id": "e72609bb",
   "metadata": {},
   "outputs": [
    {
     "name": "stdout",
     "output_type": "stream",
     "text": [
      "Epoch 1/20\n",
      "2/2 [==============================] - 5s 1s/step - loss: 0.1009 - val_loss: 0.7173 - lr: 0.0010\n",
      "Epoch 2/20\n",
      "2/2 [==============================] - 0s 30ms/step - loss: 0.0940 - val_loss: 0.6788 - lr: 0.0010\n",
      "Epoch 3/20\n",
      "2/2 [==============================] - 0s 26ms/step - loss: 0.0868 - val_loss: 0.6369 - lr: 0.0010\n",
      "Epoch 4/20\n",
      "2/2 [==============================] - 0s 25ms/step - loss: 0.0808 - val_loss: 0.5909 - lr: 0.0010\n",
      "Epoch 5/20\n",
      "2/2 [==============================] - 0s 26ms/step - loss: 0.0736 - val_loss: 0.5401 - lr: 0.0010\n",
      "Epoch 6/20\n",
      "2/2 [==============================] - 0s 26ms/step - loss: 0.0660 - val_loss: 0.4837 - lr: 0.0010\n",
      "Epoch 7/20\n",
      "2/2 [==============================] - 0s 24ms/step - loss: 0.0580 - val_loss: 0.4218 - lr: 0.0010\n",
      "Epoch 8/20\n",
      "2/2 [==============================] - 0s 25ms/step - loss: 0.0524 - val_loss: 0.3549 - lr: 0.0010\n",
      "Epoch 9/20\n",
      "2/2 [==============================] - 0s 25ms/step - loss: 0.0478 - val_loss: 0.2844 - lr: 0.0010\n",
      "Epoch 10/20\n",
      "2/2 [==============================] - 0s 24ms/step - loss: 0.0404 - val_loss: 0.2128 - lr: 0.0010\n",
      "Epoch 11/20\n",
      "2/2 [==============================] - 0s 25ms/step - loss: 0.0404 - val_loss: 0.1446 - lr: 0.0010\n",
      "Epoch 12/20\n",
      "2/2 [==============================] - 0s 24ms/step - loss: 0.0423 - val_loss: 0.0854 - lr: 0.0010\n",
      "Epoch 13/20\n",
      "2/2 [==============================] - 0s 24ms/step - loss: 0.0506 - val_loss: 0.0414 - lr: 0.0010\n",
      "Epoch 14/20\n",
      "2/2 [==============================] - 0s 24ms/step - loss: 0.0554 - val_loss: 0.0148 - lr: 0.0010\n",
      "Epoch 15/20\n",
      "2/2 [==============================] - 0s 24ms/step - loss: 0.0670 - val_loss: 0.0034 - lr: 0.0010\n",
      "Epoch 16/20\n",
      "2/2 [==============================] - 0s 24ms/step - loss: 0.0755 - val_loss: 3.1076e-04 - lr: 0.0010\n",
      "Epoch 17/20\n",
      "2/2 [==============================] - 0s 25ms/step - loss: 0.0743 - val_loss: 3.0089e-06 - lr: 0.0010\n",
      "Epoch 18/20\n",
      "2/2 [==============================] - 0s 26ms/step - loss: 0.0754 - val_loss: 7.2070e-08 - lr: 0.0010\n",
      "Epoch 19/20\n",
      "2/2 [==============================] - 0s 25ms/step - loss: 0.0685 - val_loss: 3.0027e-04 - lr: 0.0010\n",
      "Epoch 20/20\n",
      "2/2 [==============================] - 0s 24ms/step - loss: 0.0639 - val_loss: 0.0015 - lr: 0.0010\n"
     ]
    }
   ],
   "source": [
    "# create and fit the LSTM network regressor = Sequential() \n",
    "regressor = Sequential()\n",
    "\n",
    "regressor.add(LSTM(units = 60, return_sequences = True, input_shape = (X_train.shape[1], 1)))\n",
    "regressor.add(Dropout(0.1))\n",
    "\n",
    "regressor.add(LSTM(units = 60, return_sequences = True))\n",
    "regressor.add(Dropout(0.1))\n",
    "\n",
    "regressor.add(LSTM(units = 60))\n",
    "regressor.add(Dropout(0.1))\n",
    "\n",
    "regressor.add(Dense(units = 1))\n",
    "\n",
    "\n",
    "regressor.compile(optimizer = 'adam', loss = 'mean_squared_error')\n",
    "reduce_lr = ReduceLROnPlateau(monitor='val_loss',patience=5)\n",
    "history =regressor.fit(X_train, Y_train, epochs = 20, batch_size = 15,validation_data=(X_val, Y_val), callbacks=[reduce_lr],shuffle=False)"
   ]
  },
  {
   "cell_type": "code",
   "execution_count": 82,
   "id": "314fa429",
   "metadata": {},
   "outputs": [],
   "source": [
    "train_predict = regressor.predict(X_train)\n",
    "test_predict = regressor.predict(X_test)"
   ]
  },
  {
   "cell_type": "code",
   "execution_count": 83,
   "id": "288b9740",
   "metadata": {},
   "outputs": [],
   "source": [
    "# invert predictions\n",
    "train_predict = sc.inverse_transform(train_predict)\n",
    "Y_train = sc.inverse_transform([Y_train])\n",
    "test_predict = sc.inverse_transform(test_predict)\n",
    "Y_test = sc.inverse_transform([Y_test])"
   ]
  },
  {
   "cell_type": "code",
   "execution_count": 84,
   "id": "c26d5202",
   "metadata": {},
   "outputs": [
    {
     "name": "stdout",
     "output_type": "stream",
     "text": [
      "Train Mean Absolute Error: 22.134389487818666\n",
      "Train Root Mean Squared Error: 23.66639320527526\n",
      "Test Mean Absolute Error: 13.94405548095703\n",
      "Test Root Mean Squared Error: 17.979156840481746\n"
     ]
    },
    {
     "data": {
      "image/png": "[encoded data removed]",
      "text/plain": [
       "<Figure size 576x288 with 1 Axes>"
      ]
     },
     "metadata": {
      "needs_background": "light"
     },
     "output_type": "display_data"
    }
   ],
   "source": [
    "print('Train Mean Absolute Error:', mean_absolute_error(Y_train[0], train_predict[:,0]))\n",
    "print('Train Root Mean Squared Error:',np.sqrt(mean_squared_error(Y_train[0], train_predict[:,0])))\n",
    "print('Test Mean Absolute Error:', mean_absolute_error(Y_test[0], test_predict[:,0]))\n",
    "print('Test Root Mean Squared Error:',np.sqrt(mean_squared_error(Y_test[0], test_predict[:,0])))\n",
    "plt.figure(figsize=(8,4))\n",
    "plt.plot(history.history['loss'], label='Train Loss')\n",
    "plt.plot(history.history['val_loss'], label='Test Loss')\n",
    "plt.title('model loss')\n",
    "plt.ylabel('loss')\n",
    "plt.xlabel('epochs')\n",
    "plt.legend(loc='upper right')\n",
    "plt.show();"
   ]
  },
  {
   "cell_type": "code",
   "execution_count": 88,
   "id": "94d8f422",
   "metadata": {},
   "outputs": [
    {
     "name": "stdout",
     "output_type": "stream",
     "text": [
      "[61.705544]\n"
     ]
    },
    {
     "ename": "ValueError",
     "evalue": "x and y must have same first dimension, but have shapes (1,) and (2,)",
     "output_type": "error",
     "traceback": [
      "\u001b[1;31m---------------------------------------------------------------------------\u001b[0m",
      "\u001b[1;31mValueError\u001b[0m                                Traceback (most recent call last)",
      "Input \u001b[1;32mIn [88]\u001b[0m, in \u001b[0;36m<cell line: 7>\u001b[1;34m()\u001b[0m\n\u001b[0;32m      5\u001b[0m aa\u001b[38;5;241m=\u001b[39m[x \u001b[38;5;28;01mfor\u001b[39;00m x \u001b[38;5;129;01min\u001b[39;00m \u001b[38;5;28mrange\u001b[39m(\u001b[38;5;241m0\u001b[39m,\u001b[38;5;241m1\u001b[39m)]\n\u001b[0;32m      6\u001b[0m plt\u001b[38;5;241m.\u001b[39mfigure(figsize\u001b[38;5;241m=\u001b[39m(\u001b[38;5;241m8\u001b[39m,\u001b[38;5;241m4\u001b[39m))\n\u001b[1;32m----> 7\u001b[0m \u001b[43mplt\u001b[49m\u001b[38;5;241;43m.\u001b[39;49m\u001b[43mplot\u001b[49m\u001b[43m(\u001b[49m\u001b[43maa\u001b[49m\u001b[43m,\u001b[49m\u001b[43m \u001b[49m\u001b[43mY_test\u001b[49m\u001b[43m[\u001b[49m\u001b[38;5;241;43m0\u001b[39;49m\u001b[43m]\u001b[49m\u001b[43m[\u001b[49m\u001b[43m:\u001b[49m\u001b[38;5;241;43m2\u001b[39;49m\u001b[43m]\u001b[49m\u001b[43m,\u001b[49m\u001b[43m \u001b[49m\u001b[43mmarker\u001b[49m\u001b[38;5;241;43m=\u001b[39;49m\u001b[38;5;124;43m'\u001b[39;49m\u001b[38;5;124;43m.\u001b[39;49m\u001b[38;5;124;43m'\u001b[39;49m\u001b[43m,\u001b[49m\u001b[43m \u001b[49m\u001b[43mlabel\u001b[49m\u001b[38;5;241;43m=\u001b[39;49m\u001b[38;5;124;43m\"\u001b[39;49m\u001b[38;5;124;43mactual\u001b[39;49m\u001b[38;5;124;43m\"\u001b[39;49m\u001b[43m)\u001b[49m\n\u001b[0;32m      8\u001b[0m plt\u001b[38;5;241m.\u001b[39mplot(aa, test_predict[:,\u001b[38;5;241m0\u001b[39m][:\u001b[38;5;241m2\u001b[39m], \u001b[38;5;124m'\u001b[39m\u001b[38;5;124mr\u001b[39m\u001b[38;5;124m'\u001b[39m, label\u001b[38;5;241m=\u001b[39m\u001b[38;5;124m\"\u001b[39m\u001b[38;5;124mprediction\u001b[39m\u001b[38;5;124m\"\u001b[39m)\n\u001b[0;32m      9\u001b[0m plt\u001b[38;5;241m.\u001b[39mtight_layout()\n",
      "File \u001b[1;32m~\\AppData\\Local\\Programs\\Python\\Python310\\lib\\site-packages\\matplotlib\\pyplot.py:2769\u001b[0m, in \u001b[0;36mplot\u001b[1;34m(scalex, scaley, data, *args, **kwargs)\u001b[0m\n\u001b[0;32m   2767\u001b[0m \u001b[38;5;129m@_copy_docstring_and_deprecators\u001b[39m(Axes\u001b[38;5;241m.\u001b[39mplot)\n\u001b[0;32m   2768\u001b[0m \u001b[38;5;28;01mdef\u001b[39;00m \u001b[38;5;21mplot\u001b[39m(\u001b[38;5;241m*\u001b[39margs, scalex\u001b[38;5;241m=\u001b[39m\u001b[38;5;28;01mTrue\u001b[39;00m, scaley\u001b[38;5;241m=\u001b[39m\u001b[38;5;28;01mTrue\u001b[39;00m, data\u001b[38;5;241m=\u001b[39m\u001b[38;5;28;01mNone\u001b[39;00m, \u001b[38;5;241m*\u001b[39m\u001b[38;5;241m*\u001b[39mkwargs):\n\u001b[1;32m-> 2769\u001b[0m     \u001b[38;5;28;01mreturn\u001b[39;00m gca()\u001b[38;5;241m.\u001b[39mplot(\n\u001b[0;32m   2770\u001b[0m         \u001b[38;5;241m*\u001b[39margs, scalex\u001b[38;5;241m=\u001b[39mscalex, scaley\u001b[38;5;241m=\u001b[39mscaley,\n\u001b[0;32m   2771\u001b[0m         \u001b[38;5;241m*\u001b[39m\u001b[38;5;241m*\u001b[39m({\u001b[38;5;124m\"\u001b[39m\u001b[38;5;124mdata\u001b[39m\u001b[38;5;124m\"\u001b[39m: data} \u001b[38;5;28;01mif\u001b[39;00m data \u001b[38;5;129;01mis\u001b[39;00m \u001b[38;5;129;01mnot\u001b[39;00m \u001b[38;5;28;01mNone\u001b[39;00m \u001b[38;5;28;01melse\u001b[39;00m {}), \u001b[38;5;241m*\u001b[39m\u001b[38;5;241m*\u001b[39mkwargs)\n",
      "File \u001b[1;32m~\\AppData\\Local\\Programs\\Python\\Python310\\lib\\site-packages\\matplotlib\\axes\\_axes.py:1632\u001b[0m, in \u001b[0;36mAxes.plot\u001b[1;34m(self, scalex, scaley, data, *args, **kwargs)\u001b[0m\n\u001b[0;32m   1390\u001b[0m \u001b[38;5;124;03m\"\"\"\u001b[39;00m\n\u001b[0;32m   1391\u001b[0m \u001b[38;5;124;03mPlot y versus x as lines and/or markers.\u001b[39;00m\n\u001b[0;32m   1392\u001b[0m \n\u001b[1;32m   (...)\u001b[0m\n\u001b[0;32m   1629\u001b[0m \u001b[38;5;124;03m(``'green'``) or hex strings (``'#008000'``).\u001b[39;00m\n\u001b[0;32m   1630\u001b[0m \u001b[38;5;124;03m\"\"\"\u001b[39;00m\n\u001b[0;32m   1631\u001b[0m kwargs \u001b[38;5;241m=\u001b[39m cbook\u001b[38;5;241m.\u001b[39mnormalize_kwargs(kwargs, mlines\u001b[38;5;241m.\u001b[39mLine2D)\n\u001b[1;32m-> 1632\u001b[0m lines \u001b[38;5;241m=\u001b[39m [\u001b[38;5;241m*\u001b[39m\u001b[38;5;28mself\u001b[39m\u001b[38;5;241m.\u001b[39m_get_lines(\u001b[38;5;241m*\u001b[39margs, data\u001b[38;5;241m=\u001b[39mdata, \u001b[38;5;241m*\u001b[39m\u001b[38;5;241m*\u001b[39mkwargs)]\n\u001b[0;32m   1633\u001b[0m \u001b[38;5;28;01mfor\u001b[39;00m line \u001b[38;5;129;01min\u001b[39;00m lines:\n\u001b[0;32m   1634\u001b[0m     \u001b[38;5;28mself\u001b[39m\u001b[38;5;241m.\u001b[39madd_line(line)\n",
      "File \u001b[1;32m~\\AppData\\Local\\Programs\\Python\\Python310\\lib\\site-packages\\matplotlib\\axes\\_base.py:312\u001b[0m, in \u001b[0;36m_process_plot_var_args.__call__\u001b[1;34m(self, data, *args, **kwargs)\u001b[0m\n\u001b[0;32m    310\u001b[0m     this \u001b[38;5;241m+\u001b[39m\u001b[38;5;241m=\u001b[39m args[\u001b[38;5;241m0\u001b[39m],\n\u001b[0;32m    311\u001b[0m     args \u001b[38;5;241m=\u001b[39m args[\u001b[38;5;241m1\u001b[39m:]\n\u001b[1;32m--> 312\u001b[0m \u001b[38;5;28;01myield from\u001b[39;00m \u001b[38;5;28;43mself\u001b[39;49m\u001b[38;5;241;43m.\u001b[39;49m\u001b[43m_plot_args\u001b[49m\u001b[43m(\u001b[49m\u001b[43mthis\u001b[49m\u001b[43m,\u001b[49m\u001b[43m \u001b[49m\u001b[43mkwargs\u001b[49m\u001b[43m)\u001b[49m\n",
      "File \u001b[1;32m~\\AppData\\Local\\Programs\\Python\\Python310\\lib\\site-packages\\matplotlib\\axes\\_base.py:498\u001b[0m, in \u001b[0;36m_process_plot_var_args._plot_args\u001b[1;34m(self, tup, kwargs, return_kwargs)\u001b[0m\n\u001b[0;32m    495\u001b[0m     \u001b[38;5;28mself\u001b[39m\u001b[38;5;241m.\u001b[39maxes\u001b[38;5;241m.\u001b[39myaxis\u001b[38;5;241m.\u001b[39mupdate_units(y)\n\u001b[0;32m    497\u001b[0m \u001b[38;5;28;01mif\u001b[39;00m x\u001b[38;5;241m.\u001b[39mshape[\u001b[38;5;241m0\u001b[39m] \u001b[38;5;241m!=\u001b[39m y\u001b[38;5;241m.\u001b[39mshape[\u001b[38;5;241m0\u001b[39m]:\n\u001b[1;32m--> 498\u001b[0m     \u001b[38;5;28;01mraise\u001b[39;00m \u001b[38;5;167;01mValueError\u001b[39;00m(\u001b[38;5;124mf\u001b[39m\u001b[38;5;124m\"\u001b[39m\u001b[38;5;124mx and y must have same first dimension, but \u001b[39m\u001b[38;5;124m\"\u001b[39m\n\u001b[0;32m    499\u001b[0m                      \u001b[38;5;124mf\u001b[39m\u001b[38;5;124m\"\u001b[39m\u001b[38;5;124mhave shapes \u001b[39m\u001b[38;5;132;01m{\u001b[39;00mx\u001b[38;5;241m.\u001b[39mshape\u001b[38;5;132;01m}\u001b[39;00m\u001b[38;5;124m and \u001b[39m\u001b[38;5;132;01m{\u001b[39;00my\u001b[38;5;241m.\u001b[39mshape\u001b[38;5;132;01m}\u001b[39;00m\u001b[38;5;124m\"\u001b[39m)\n\u001b[0;32m    500\u001b[0m \u001b[38;5;28;01mif\u001b[39;00m x\u001b[38;5;241m.\u001b[39mndim \u001b[38;5;241m>\u001b[39m \u001b[38;5;241m2\u001b[39m \u001b[38;5;129;01mor\u001b[39;00m y\u001b[38;5;241m.\u001b[39mndim \u001b[38;5;241m>\u001b[39m \u001b[38;5;241m2\u001b[39m:\n\u001b[0;32m    501\u001b[0m     \u001b[38;5;28;01mraise\u001b[39;00m \u001b[38;5;167;01mValueError\u001b[39;00m(\u001b[38;5;124mf\u001b[39m\u001b[38;5;124m\"\u001b[39m\u001b[38;5;124mx and y can be no greater than 2D, but have \u001b[39m\u001b[38;5;124m\"\u001b[39m\n\u001b[0;32m    502\u001b[0m                      \u001b[38;5;124mf\u001b[39m\u001b[38;5;124m\"\u001b[39m\u001b[38;5;124mshapes \u001b[39m\u001b[38;5;132;01m{\u001b[39;00mx\u001b[38;5;241m.\u001b[39mshape\u001b[38;5;132;01m}\u001b[39;00m\u001b[38;5;124m and \u001b[39m\u001b[38;5;132;01m{\u001b[39;00my\u001b[38;5;241m.\u001b[39mshape\u001b[38;5;132;01m}\u001b[39;00m\u001b[38;5;124m\"\u001b[39m)\n",
      "\u001b[1;31mValueError\u001b[0m: x and y must have same first dimension, but have shapes (1,) and (2,)"
     ]
    },
    {
     "data": {
      "image/png": "[encoded data removed]",
      "text/plain": [
       "<Figure size 576x288 with 1 Axes>"
      ]
     },
     "metadata": {
      "needs_background": "light"
     },
     "output_type": "display_data"
    }
   ],
   "source": [
    "#Compare Actual vs. Prediction\n",
    "\n",
    "print(test_predict[:,0][:1])\n",
    "\n",
    "aa=[x for x in range(0,1)]\n",
    "plt.figure(figsize=(8,4))\n",
    "plt.plot(aa, Y_test[0][:2], marker='.', label=\"actual\")\n",
    "plt.plot(aa, test_predict[:,0][:2], 'r', label=\"prediction\")\n",
    "plt.tight_layout()\n",
    "sns.despine(top=True)\n",
    "plt.subplots_adjust(left=0.07)\n",
    "plt.ylabel('Price', size=15)\n",
    "plt.xlabel('Time step', size=15)\n",
    "plt.legend(fontsize=15)\n",
    "plt.show();"
   ]
  },
  {
   "cell_type": "code",
   "execution_count": null,
   "id": "f5a3474b",
   "metadata": {},
   "outputs": [],
   "source": []
  },
  {
   "cell_type": "code",
   "execution_count": null,
   "id": "ffe05ff1",
   "metadata": {},
   "outputs": [],
   "source": []
  }
 ],
 "metadata": {
  "kernelspec": {
   "display_name": "Python 3 (ipykernel)",
   "language": "python",
   "name": "python3"
  },
  "language_info": {
   "codemirror_mode": {
    "name": "ipython",
    "version": 3
   },
   "file_extension": ".py",
   "mimetype": "text/x-python",
   "name": "python",
   "nbconvert_exporter": "python",
   "pygments_lexer": "ipython3",
   "version": "3.10.4"
  }
 },
 "nbformat": 4,
 "nbformat_minor": 5
}
